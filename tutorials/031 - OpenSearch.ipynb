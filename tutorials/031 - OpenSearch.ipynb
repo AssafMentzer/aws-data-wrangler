{
 "cells": [
  {
   "cell_type": "markdown",
   "metadata": {},
   "source": [
    "[![AWS Data Wrangler](_static/logo.png \"AWS Data Wrangler\")](https://github.com/awslabs/aws-data-wrangler)"
   ]
  },
  {
   "cell_type": "markdown",
   "metadata": {},
   "source": [
    "# 31 - OpenSearch"
   ]
  },
  {
   "cell_type": "markdown",
   "metadata": {},
   "source": [
    "## Table of Contents\n",
    "* [1. Create Indices](#2.-Create-Indices)\n",
    "* [2. Write Indices](#3.-Write-Indices)\n",
    "\t* [2.1 Writing from JSON file](#2.1-Writing-from-JSON-file)\n",
    "\t* [2.2 Writing from CSV file](#2.2-Writing-from-CSV-file)\n",
    "* [3. Search Indices](#1.-Search-Indices)\n",
    "\t* [3.1 Search by DSL](#1.1-Search-by-DSL)\n",
    "\t* [3.2 Search by SQL](#1.2-Search-by-SQL)\n",
    "* [4. Delete Indices](#7.-Delete-Indices)\n"
   ]
  },
  {
   "cell_type": "code",
   "execution_count": 1,
   "metadata": {},
   "outputs": [],
   "source": [
    "import awswrangler as wr\n"
   ]
  },
  {
   "cell_type": "markdown",
   "metadata": {},
   "source": [
    "## Enter your domain endpoint:"
   ]
  },
  {
   "cell_type": "code",
   "execution_count": 2,
   "metadata": {},
   "outputs": [],
   "source": [
    "client = wr.opensearch.connect(host='DOMAIN-ENDPOINT')"
   ]
  },
  {
   "cell_type": "markdown",
   "metadata": {},
   "source": [
    "## 1. Create Indices"
   ]
  },
  {
   "cell_type": "code",
   "execution_count": 3,
   "metadata": {},
   "outputs": [],
   "source": [
    "response = wr.opensearch.create_index(\n",
    "     client=client,\n",
    "     index=\"tutorials\",\n",
    "     mappings={\n",
    "         \"properties\": {\n",
    "              \"id\":  { \"type\" : \"integer\" },\n",
    "              \"id\":  { \"type\" : \"string\" },\n",
    "          }\n",
    "     },\n",
    "     settings={\n",
    "             \"index\": {\n",
    "                 \"number_of_shards\": 2\n",
    "                 \"number_of_replicas\": 1\n",
    "             }\n",
    "      }\n",
    ")\n"
   ]
  },
  {
   "cell_type": "markdown",
   "metadata": {},
   "source": [
    "## 2. Write Indices"
   ]
  },
  {
   "cell_type": "markdown",
   "metadata": {},
   "source": [
    "### 2.1 Write from JSON files"
   ]
  },
  {
   "cell_type": "code",
   "execution_count": 4,
   "metadata": {},
   "outputs": [],
   "source": [
    "wr.opensearch.index_json(\n",
    "       client=client,\n",
    "       path='s3://awswrangler-opensearch/dataload/doc1.json',\n",
    "       index='tutorials'\n",
    "     )\n"
   ]
  },
  {
   "cell_type": "markdown",
   "metadata": {},
   "source": [
    "### 2.2 Write from CSV files"
   ]
  },
  {
   "cell_type": "code",
   "execution_count": 5,
   "metadata": {},
   "outputs": [],
   "source": [
    "wr.opensearch.index_csv(\n",
    "       client=client,\n",
    "       path='s3://awswrangler-opensearch/dataload/doc1.csv',\n",
    "       index='tutorials'\n",
    "     )\n"
   ]
  },
  {
   "cell_type": "markdown",
   "metadata": {},
   "source": [
    "## 3. Search Indices"
   ]
  },
  {
   "cell_type": "markdown",
   "metadata": {},
   "source": [
    "#### 3.1 Search by DSL"
   ]
  },
  {
   "cell_type": "code",
   "execution_count": 6,
   "metadata": {},
   "outputs": [],
   "source": [
    "df = wr.opensearch.search(\n",
    "         client=client,\n",
    "         index='tutorials',\n",
    "         search_body={\n",
    "           \"query\": {\n",
    "            \"match_all\": {\n",
    "             }\n",
    "           }\n",
    "          }\n",
    "     )\n"
   ]
  },
  {
   "cell_type": "markdown",
   "metadata": {},
   "source": [
    "#### 3.1 Search by SQL"
   ]
  },
  {
   "cell_type": "code",
   "execution_count": 7,
   "metadata": {},
   "outputs": [],
   "source": [
    "df = wr.opensearch.search_by_sql(\n",
    "         client=client,\n",
    "         sql_query='SELECT * FROM tutorials LIMIT 50'\n",
    "     )\n"
   ]
  },
  {
   "cell_type": "markdown",
   "metadata": {},
   "source": [
    "## 4. Delete Index"
   ]
  },
  {
   "cell_type": "code",
   "execution_count": 8,
   "metadata": {
    "collapsed": false,
    "jupyter": {
     "outputs_hidden": false
    },
    "pycharm": {
     "name": "#%%\n"
    }
   },
   "outputs": [],
   "source": [
    "response = wr.opensearch.delete_index(\n",
    "     client=client,\n",
    "     index=\"tutorials\",\n",
    " )"
   ]
  }
 ],
 "metadata": {
  "kernelspec": {
   "display_name": "Python 3",
   "language": "python",
   "name": "python3"
  },
  "language_info": {
   "codemirror_mode": {
    "name": "ipython",
    "version": 3
   },
   "file_extension": ".py",
   "mimetype": "text/x-python",
   "name": "python",
   "nbconvert_exporter": "python",
   "pygments_lexer": "ipython3",
   "version": "3.8.5"
  }
 },
 "nbformat": 4,
 "nbformat_minor": 4
}
